{
 "cells": [
  {
   "cell_type": "code",
   "execution_count": 1,
   "id": "f25ff78d",
   "metadata": {},
   "outputs": [],
   "source": [
    "from joblib import dump,load\n",
    "import numpy as np\n",
    "model=load('Dragon.joblib')"
   ]
  },
  {
   "cell_type": "code",
   "execution_count": 2,
   "id": "94ac956e",
   "metadata": {},
   "outputs": [
    {
     "data": {
      "text/plain": [
       "array([22.286])"
      ]
     },
     "execution_count": 2,
     "metadata": {},
     "output_type": "execute_result"
    }
   ],
   "source": [
    "input=np.array([[-0.43942006,  3.12628155, -1.12165014, -0.27288841, -1.42262747,\n",
    "        -0.24329153, -1.31238772,  2.61111401, -1.0016859 , -0.5778192 ,\n",
    "        -0.97491834,  0.41164221, -0.86091034]])\n",
    "model.predict(input)"
   ]
  },
  {
   "cell_type": "code",
   "execution_count": 3,
   "id": "16395dd0",
   "metadata": {},
   "outputs": [
    {
     "data": {
      "text/plain": [
       "array([21.686])"
      ]
     },
     "execution_count": 3,
     "metadata": {},
     "output_type": "execute_result"
    }
   ],
   "source": [
    "input2=np.array([[1,2,1,2,1,2,1,2,1,2,1,2,1]])\n",
    "model.predict(input2)"
   ]
  },
  {
   "cell_type": "code",
   "execution_count": 4,
   "id": "f8047a5c",
   "metadata": {},
   "outputs": [
    {
     "data": {
      "text/plain": [
       "array([19.725])"
      ]
     },
     "execution_count": 4,
     "metadata": {},
     "output_type": "execute_result"
    }
   ],
   "source": [
    "input3=np.array([[3,3,3,3,3,3,3,3,3,3,3,3,3]])\n",
    "model.predict(input3)"
   ]
  },
  {
   "cell_type": "code",
   "execution_count": null,
   "id": "6111a176",
   "metadata": {},
   "outputs": [],
   "source": []
  }
 ],
 "metadata": {
  "kernelspec": {
   "display_name": "Python 3",
   "language": "python",
   "name": "python3"
  },
  "language_info": {
   "codemirror_mode": {
    "name": "ipython",
    "version": 3
   },
   "file_extension": ".py",
   "mimetype": "text/x-python",
   "name": "python",
   "nbconvert_exporter": "python",
   "pygments_lexer": "ipython3",
   "version": "3.7.0"
  }
 },
 "nbformat": 4,
 "nbformat_minor": 5
}
